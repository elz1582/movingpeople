{
 "cells": [
  {
   "cell_type": "code",
   "execution_count": null,
   "metadata": {},
   "outputs": [],
   "source": [
    "from movingpeople import visualise_route, generate_routes\n",
    "\n",
    "from shapely import Point\n",
    "import geopandas as gpd"
   ]
  },
  {
   "cell_type": "code",
   "execution_count": null,
   "metadata": {},
   "outputs": [],
   "source": [
    "help(generate_routes)"
   ]
  },
  {
   "cell_type": "code",
   "execution_count": null,
   "metadata": {},
   "outputs": [],
   "source": [
    "help(visualise_route)"
   ]
  },
  {
   "cell_type": "code",
   "execution_count": null,
   "metadata": {},
   "outputs": [],
   "source": [
    "import osmnx as ox\n",
    "\n",
    "# Search query for a geographic area\n",
    "query = \"City of Westminster\"\n",
    "# Get the walking network for the query location\n",
    "G = ox.graph.graph_from_place(query, network_type=\"walk\", simplify=True)\n",
    "# Project the graph to WGS84\n",
    "Gp = ox.project_graph(G, to_crs=\"4326\")"
   ]
  },
  {
   "cell_type": "code",
   "execution_count": null,
   "metadata": {},
   "outputs": [],
   "source": [
    "# To make randomised routes from a single origin\n",
    "routes = generate_routes(\n",
    "                            Gp,\n",
    "                            time_from=\"2020-02-26 20:42:53\",\n",
    "                            time_until=\"2020-02-26 21:42:53\",\n",
    "                            time_strategy=\"random\",\n",
    "                            route_strategy=\"one-many\",\n",
    "                            origin_destination_coords=[51.499127, -0.153522],\n",
    "                            total_routes=3,\n",
    "                            walk_speed=1.4,\n",
    "                            frequency=\"1s\",\n",
    "                            )"
   ]
  },
  {
   "cell_type": "code",
   "execution_count": null,
   "metadata": {},
   "outputs": [],
   "source": [
    "routes"
   ]
  },
  {
   "cell_type": "code",
   "execution_count": null,
   "metadata": {},
   "outputs": [],
   "source": [
    "# Creating a Point geometry and a buffer polygon of 500 meters\n",
    "buffer = Point(-0.15258859375821948, 51.5120199884501792)\n",
    "area = gpd.GeoDataFrame(index=[0], crs='epsg:4326', geometry=[buffer])\n",
    "area = area.to_crs(crs=3857) \n",
    "area['geometry'] = area['geometry'].buffer(500)"
   ]
  },
  {
   "cell_type": "code",
   "execution_count": null,
   "metadata": {},
   "outputs": [],
   "source": [
    "def clip_routes_to_polygon(routes, polygon):\n",
    "    \"\"\"\n",
    "    Creates a DataFrame of routes that are clipped by a single polygon.\n",
    "\n",
    "    Parameters:\n",
    "            routes : GeoDataFrame\n",
    "                DataFrame containing routes locations. See 'generate_routes' for information.\n",
    "            polygon : GeoDataFrame\n",
    "                Contains polygon 'geometry' column\n",
    "\n",
    "    Returns:\n",
    "            route_subset : GeoDataFrame\n",
    "                A subset of routes that are clipped inside the input polygon.\n",
    "    \"\"\"\n",
    "    \n",
    "    # Check if polygon is a Shapely Polygon\n",
    "    assert polygon.geom_type == 'Polygon', \"Input polygon is not a Shapely 'Polygon'.\"\n",
    "\n",
    "    # Check if the geometry column exists in the polygon GeoDataFrame\n",
    "    assert 'geometry' in area.columns, \"The polygon GeoDataFrame doesnt have a column named 'geometry'.\"\n",
    "\n",
    "    # Check if the geometry column exists in the routes GeoDataFrame\n",
    "    assert 'geometry' in routes.columns, \"The polygon GeoDataFrame doesnt have a column named 'geometry'.\"\n",
    "\n",
    "    # Check if the geometries in the routes GeoDataFrame\n",
    "    assert routes.geom_type == 'Point', \"Input polygon is not a Shapely 'Polygon'.\"\n",
    "\n",
    "    # Subsetting routes to within the buffer polygon - FUNCTION\n",
    "    route_subset = routes.loc[routes.within(polygon.loc[0, 'geometry'])]\n",
    "    return route_subset"
   ]
  },
  {
   "cell_type": "code",
   "execution_count": null,
   "metadata": {},
   "outputs": [],
   "source": [
    "# making a kepler GL map\n",
    "map_routes = visualise_route(routes, 600)\n",
    "\n",
    "# Adding the buffer geometry\n",
    "map_routes.add_data(data=area, name='buffer')\n",
    "\n",
    "# Adding the subset routes to the map\n",
    "map_routes.add_data(data=route_subset, name='route_subset')\n",
    "\n",
    "# Display the map\n",
    "map_routes"
   ]
  },
  {
   "cell_type": "code",
   "execution_count": null,
   "metadata": {},
   "outputs": [],
   "source": [
    "def get_entry_exit_times(clipped_routes):\n",
    "\n",
    "    \"\"\"\n",
    "    Gets the start and end times of unique routes.\n",
    "\n",
    "    Parameters:\n",
    "            clipped_routes : GeoDataFrame\n",
    "                DataFrame containing routes. Ideally used after clip_routes_to_polygon.\n",
    "\n",
    "    Returns:\n",
    "            times : DataFrame\n",
    "                Start and end times for each unique route.\n",
    "    \"\"\"\n",
    "\n",
    "    # Check if the id column exists in clipped_routes\n",
    "    assert 'id' in clipped_routes.columns, \"No 'id' columns found.\"\n",
    "\n",
    "    # Converting ID to id if found\n",
    "    if 'ID' in clipped_routes.columns:\n",
    "        print('The column ID was found, but will be converted to lower case.')\n",
    "        clipped_routes.rename(\n",
    "            columns = {'ID':'id'},\n",
    "            inplace = True\n",
    "            )\n",
    "    else:\n",
    "        continue\n",
    "\n",
    "    # Check if the id column exists in clipped_routes\n",
    "    assert 'time' in clipped_routes.columns, \"No 'time' columns found.\"\n",
    "\n",
    "    # Checking time column is a datetime type\n",
    "    clipped_routes['time'].dtype == '<M8[ns]'\n",
    "\n",
    "    # Calculating the entry and exit times of each route within the subset of routes - FUNCTION\n",
    "    timein = clipped_routes.groupby(['id']).first()\n",
    "    timeout = clipped_routes.groupby(['id']).last()\n",
    "\n",
    "    # Join the entry and exit times together for each route id\n",
    "    times = timein.join(timeout, lsuffix='_in', rsuffix='_out')[['time_in', 'time_out']]\n",
    "    times['duration'] =  times['time_out'] - times['time_in']\n",
    "\n",
    "    return times"
   ]
  },
  {
   "cell_type": "code",
   "execution_count": null,
   "metadata": {},
   "outputs": [],
   "source": [
    "display(times)"
   ]
  }
 ],
 "metadata": {
  "kernelspec": {
   "display_name": "venv",
   "language": "python",
   "name": "python3"
  },
  "language_info": {
   "codemirror_mode": {
    "name": "ipython",
    "version": 3
   },
   "file_extension": ".py",
   "mimetype": "text/x-python",
   "name": "python",
   "nbconvert_exporter": "python",
   "pygments_lexer": "ipython3",
   "version": "3.10.9"
  },
  "orig_nbformat": 4
 },
 "nbformat": 4,
 "nbformat_minor": 2
}
