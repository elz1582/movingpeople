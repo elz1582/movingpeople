{
 "cells": [
  {
   "cell_type": "code",
   "execution_count": null,
   "metadata": {},
   "outputs": [],
   "source": [
    "import movingpeople as mp\n",
    "\n",
    "from shapely import Point, Polygon\n",
    "import geopandas as gpd\n",
    "import osmnx as ox\n",
    "import pandas as pd"
   ]
  },
  {
   "cell_type": "code",
   "execution_count": null,
   "metadata": {},
   "outputs": [],
   "source": [
    "help(mp.generate_routes)"
   ]
  },
  {
   "cell_type": "code",
   "execution_count": null,
   "metadata": {},
   "outputs": [],
   "source": [
    "help(mp.clip_routes_to_polygon)"
   ]
  },
  {
   "cell_type": "code",
   "execution_count": null,
   "metadata": {},
   "outputs": [],
   "source": [
    "# Search query for a geographic area\n",
    "query = \"City of Westminster\"\n",
    "# Get the walking network for the query location\n",
    "G = ox.graph.graph_from_place(query, network_type=\"walk\", simplify=True)\n",
    "# Project the graph to WGS84\n",
    "Gp = ox.project_graph(G, to_crs=\"4326\")"
   ]
  },
  {
   "cell_type": "code",
   "execution_count": null,
   "metadata": {},
   "outputs": [],
   "source": [
    "# To make randomised routes from a single origin\n",
    "routes = mp.generate_routes(\n",
    "                            Gp,\n",
    "                            time_from=\"2020-02-26 20:42:53\",\n",
    "                            time_until=\"2020-02-26 21:42:53\",\n",
    "                            time_strategy=\"random\",\n",
    "                            route_strategy=\"one-many\",\n",
    "                            origin_destination_coords=[51.499127, -0.153522],\n",
    "                            total_routes=10,\n",
    "                            walk_speed=1.4,\n",
    "                            frequency=\"1s\",\n",
    "                            )"
   ]
  },
  {
   "cell_type": "code",
   "execution_count": null,
   "metadata": {},
   "outputs": [],
   "source": [
    "df = pd.DataFrame(\n",
    "    {\n",
    "        \"Name\": [\"A\", \"B\"],\n",
    "        \"Latitude\": [51.440127, 51.499127],\n",
    "        \"Longitude\": [-0.154522, -0.153522],\n",
    "    }\n",
    ")\n",
    "gdf = gpd.GeoDataFrame(\n",
    "    df, geometry=gpd.points_from_xy(df.Longitude, df.Latitude), crs=\"EPSG:4326\"\n",
    ")\n",
    "area = gdf.to_crs(crs=3857) \n",
    "area['geometry'] = area['geometry'].buffer(10000)"
   ]
  },
  {
   "cell_type": "code",
   "execution_count": null,
   "metadata": {},
   "outputs": [],
   "source": [
    "clipped_routes = mp.clip_routes_to_polygon(routes, area)"
   ]
  },
  {
   "cell_type": "code",
   "execution_count": null,
   "metadata": {},
   "outputs": [],
   "source": [
    "entry_exit = mp.get_entry_exit_times(clipped_routes)"
   ]
  },
  {
   "cell_type": "code",
   "execution_count": null,
   "metadata": {},
   "outputs": [],
   "source": [
    "display(entry_exit)"
   ]
  }
 ],
 "metadata": {
  "kernelspec": {
   "display_name": "venv",
   "language": "python",
   "name": "python3"
  },
  "language_info": {
   "codemirror_mode": {
    "name": "ipython",
    "version": 3
   },
   "file_extension": ".py",
   "mimetype": "text/x-python",
   "name": "python",
   "nbconvert_exporter": "python",
   "pygments_lexer": "ipython3",
   "version": "3.10.9"
  },
  "orig_nbformat": 4
 },
 "nbformat": 4,
 "nbformat_minor": 2
}
