{
 "cells": [
  {
   "cell_type": "code",
   "execution_count": null,
   "metadata": {},
   "outputs": [],
   "source": [
    "import movingpeople as mp\n",
    "\n",
    "from shapely import Point, Polygon\n",
    "import geopandas as gpd\n",
    "import osmnx as ox\n",
    "import pandas as pd"
   ]
  },
  {
   "cell_type": "code",
   "execution_count": null,
   "metadata": {},
   "outputs": [],
   "source": [
    "!pip show movingpeople"
   ]
  },
  {
   "cell_type": "code",
   "execution_count": null,
   "metadata": {},
   "outputs": [],
   "source": [
    "help(mp.generate_routes)"
   ]
  },
  {
   "cell_type": "code",
   "execution_count": null,
   "metadata": {},
   "outputs": [],
   "source": [
    "help(mp.visualise_route)"
   ]
  },
  {
   "cell_type": "code",
   "execution_count": null,
   "metadata": {},
   "outputs": [],
   "source": [
    "# Search query for a geographic area\n",
    "query = \"City of Westminster\"\n",
    "# Get the walking network for the query location\n",
    "G = ox.graph.graph_from_place(query, network_type=\"walk\", simplify=True)\n",
    "# Project the graph to WGS84\n",
    "Gp = ox.project_graph(G, to_crs=\"4326\")"
   ]
  },
  {
   "cell_type": "code",
   "execution_count": null,
   "metadata": {},
   "outputs": [],
   "source": [
    "# To make randomised routes from a single origin\n",
    "routes = mp.generate_routes(\n",
    "                            Gp,\n",
    "                            time_from=\"2020-02-26 20:42:53\",\n",
    "                            time_until=\"2020-02-26 21:42:53\",\n",
    "                            time_strategy=\"random\",\n",
    "                            route_strategy=\"one-many\",\n",
    "                            origin_destination_coords=[51.499127, -0.153522],\n",
    "                            total_routes=10,\n",
    "                            walk_speed=1.4,\n",
    "                            frequency=\"1s\",\n",
    "                            )"
   ]
  },
  {
   "cell_type": "code",
   "execution_count": null,
   "metadata": {},
   "outputs": [],
   "source": [
    "df = pd.DataFrame(\n",
    "    {\n",
    "        \"Name\": [\"A\", \"B\"],\n",
    "        \"Latitude\": [51.50727, 51.50127],\n",
    "        \"Longitude\": [-0.154522, -0.153922],\n",
    "    }\n",
    ")\n",
    "gdf = gpd.GeoDataFrame(\n",
    "    df, geometry=gpd.points_from_xy(df.Longitude, df.Latitude), crs=\"EPSG:4326\"\n",
    ")\n",
    "area = gdf.to_crs(crs=3857) \n",
    "area['geometry'] = area['geometry'].buffer(250)"
   ]
  },
  {
   "cell_type": "code",
   "execution_count": null,
   "metadata": {},
   "outputs": [],
   "source": [
    "clipped_routes = mp.clip_routes_to_polygon(routes, area)"
   ]
  },
  {
   "cell_type": "code",
   "execution_count": null,
   "metadata": {},
   "outputs": [],
   "source": [
    "entry_exit = mp.get_entry_exit_times(clipped_routes)"
   ]
  },
  {
   "cell_type": "code",
   "execution_count": null,
   "metadata": {},
   "outputs": [],
   "source": [
    "clipped_routes['time'] = clipped_routes['time'].astype(str)"
   ]
  },
  {
   "cell_type": "code",
   "execution_count": null,
   "metadata": {},
   "outputs": [],
   "source": [
    "routes['time'] = routes['time'].astype(str)"
   ]
  },
  {
   "cell_type": "code",
   "execution_count": null,
   "metadata": {},
   "outputs": [],
   "source": [
    "map_plot = mp.visualise_route(routes, 500)\n",
    "map_plot.add_data(data=area, name='potential sites')\n",
    "map_plot.add_data(data=clipped_routes, name='routes within site radius')"
   ]
  },
  {
   "cell_type": "code",
   "execution_count": null,
   "metadata": {},
   "outputs": [],
   "source": [
    "map_plot.save_to_html(file_name='first_map.html')"
   ]
  },
  {
   "cell_type": "code",
   "execution_count": null,
   "metadata": {},
   "outputs": [],
   "source": []
  }
 ],
 "metadata": {
  "kernelspec": {
   "display_name": "venv",
   "language": "python",
   "name": "python3"
  },
  "language_info": {
   "codemirror_mode": {
    "name": "ipython",
    "version": 3
   },
   "file_extension": ".py",
   "mimetype": "text/x-python",
   "name": "python",
   "nbconvert_exporter": "python",
   "pygments_lexer": "ipython3",
   "version": "3.10.9"
  },
  "orig_nbformat": 4
 },
 "nbformat": 4,
 "nbformat_minor": 2
}
