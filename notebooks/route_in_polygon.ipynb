{
 "cells": [
  {
   "cell_type": "code",
   "execution_count": null,
   "metadata": {},
   "outputs": [],
   "source": [
    "import movingpeople as mp\n",
    "\n",
    "from shapely import Point, Polygon\n",
    "import geopandas as gpd\n",
    "import osmnx as ox"
   ]
  },
  {
   "cell_type": "code",
   "execution_count": null,
   "metadata": {},
   "outputs": [],
   "source": [
    "help(mp.generate_routes)"
   ]
  },
  {
   "cell_type": "code",
   "execution_count": null,
   "metadata": {},
   "outputs": [],
   "source": [
    "help(mp.visualise_route)"
   ]
  },
  {
   "cell_type": "code",
   "execution_count": null,
   "metadata": {},
   "outputs": [],
   "source": [
    "# Search query for a geographic area\n",
    "query = \"City of Westminster\"\n",
    "# Get the walking network for the query location\n",
    "G = ox.graph.graph_from_place(query, network_type=\"walk\", simplify=True)\n",
    "# Project the graph to WGS84\n",
    "Gp = ox.project_graph(G, to_crs=\"4326\")"
   ]
  },
  {
   "cell_type": "code",
   "execution_count": null,
   "metadata": {},
   "outputs": [],
   "source": [
    "# To make randomised routes from a single origin\n",
    "routes = mp.generate_routes(\n",
    "                            Gp,\n",
    "                            time_from=\"2020-02-26 20:42:53\",\n",
    "                            time_until=\"2020-02-26 21:42:53\",\n",
    "                            time_strategy=\"random\",\n",
    "                            route_strategy=\"one-many\",\n",
    "                            origin_destination_coords=[51.499127, -0.153522],\n",
    "                            total_routes=30,\n",
    "                            walk_speed=1.4,\n",
    "                            frequency=\"1s\",\n",
    "                            )"
   ]
  },
  {
   "cell_type": "code",
   "execution_count": null,
   "metadata": {},
   "outputs": [],
   "source": [
    "# Creating a Point geometry and a buffer polygon of 500 meters\n",
    "buffer = Point(-0.15258859375821948, 51.5120199884501792)\n",
    "area = gpd.GeoDataFrame(index=[0], crs='epsg:4326', geometry=[buffer])\n",
    "area = area.to_crs(crs=3857) \n",
    "area['geometry'] = area['geometry'].buffer(1500)"
   ]
  },
  {
   "cell_type": "code",
   "execution_count": null,
   "metadata": {},
   "outputs": [],
   "source": [
    "clipped_routes = clip_routes_to_polygon(routes, area)"
   ]
  },
  {
   "cell_type": "code",
   "execution_count": null,
   "metadata": {},
   "outputs": [],
   "source": [
    "entry_exit = mp.get_entry_exit_times(clipped_routes)"
   ]
  },
  {
   "cell_type": "code",
   "execution_count": null,
   "metadata": {},
   "outputs": [],
   "source": [
    "display(entry_exit)"
   ]
  }
 ],
 "metadata": {
  "kernelspec": {
   "display_name": "venv",
   "language": "python",
   "name": "python3"
  },
  "language_info": {
   "codemirror_mode": {
    "name": "ipython",
    "version": 3
   },
   "file_extension": ".py",
   "mimetype": "text/x-python",
   "name": "python",
   "nbconvert_exporter": "python",
   "pygments_lexer": "ipython3",
   "version": "3.10.9"
  },
  "orig_nbformat": 4
 },
 "nbformat": 4,
 "nbformat_minor": 2
}
