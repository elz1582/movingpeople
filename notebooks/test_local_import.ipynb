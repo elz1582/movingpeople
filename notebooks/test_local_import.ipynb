{
 "cells": [
  {
   "cell_type": "code",
   "execution_count": null,
   "metadata": {},
   "outputs": [],
   "source": [
    "from movingpeople import visualise_route, generate_routes"
   ]
  },
  {
   "cell_type": "code",
   "execution_count": null,
   "metadata": {},
   "outputs": [],
   "source": [
    "help(generate_routes)"
   ]
  },
  {
   "cell_type": "code",
   "execution_count": null,
   "metadata": {},
   "outputs": [],
   "source": [
    "help(visualise_route)"
   ]
  },
  {
   "cell_type": "code",
   "execution_count": null,
   "metadata": {},
   "outputs": [],
   "source": [
    "import osmnx as ox\n",
    "\n",
    "# Search query for a geographic area\n",
    "query = \"City of Westminster\"\n",
    "# Get the walking network for the query location\n",
    "G = ox.graph.graph_from_place(query, network_type=\"walk\", simplify=True)\n",
    "# Project the graph to WGS84\n",
    "Gp = ox.project_graph(G, to_crs=\"4326\")"
   ]
  },
  {
   "cell_type": "code",
   "execution_count": null,
   "metadata": {},
   "outputs": [],
   "source": [
    "# To make two randomised routes\n",
    "two_routes = generate_routes(\n",
    "                            Gp,\n",
    "                            time_from=\"2015-02-26 21:42:53\",\n",
    "                            time_until=None,\n",
    "                            time_strategy=\"fixed\",\n",
    "                            route_strategy=\"many-many\",\n",
    "                            origin_destination_coords=None,\n",
    "                            total_routes=2,\n",
    "                            walk_speed=1.4,\n",
    "                            frequency=\"1s\",\n",
    "                            )"
   ]
  },
  {
   "cell_type": "code",
   "execution_count": null,
   "metadata": {},
   "outputs": [],
   "source": [
    "visualise_route(two_routes, 500)"
   ]
  }
 ],
 "metadata": {
  "kernelspec": {
   "display_name": "venv",
   "language": "python",
   "name": "python3"
  },
  "language_info": {
   "codemirror_mode": {
    "name": "ipython",
    "version": 3
   },
   "file_extension": ".py",
   "mimetype": "text/x-python",
   "name": "python",
   "nbconvert_exporter": "python",
   "pygments_lexer": "ipython3",
   "version": "3.10.9"
  },
  "orig_nbformat": 4
 },
 "nbformat": 4,
 "nbformat_minor": 2
}
