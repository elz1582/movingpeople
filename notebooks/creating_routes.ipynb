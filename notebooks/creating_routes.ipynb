{
 "cells": [
  {
   "attachments": {},
   "cell_type": "markdown",
   "metadata": {},
   "source": [
    "# Proof of Concept for randomised route generation"
   ]
  },
  {
   "attachments": {},
   "cell_type": "markdown",
   "metadata": {},
   "source": [
    "## Items\n",
    "\n",
    "* Load a walking networkf graph from a place using OSMNX\n",
    "* Function to create a randomised route with equal interval timestamp points \n",
    "* Function to create multiple randomised routes\n",
    "* Visualisation in Kepler.gl"
   ]
  },
  {
   "attachments": {},
   "cell_type": "markdown",
   "metadata": {},
   "source": [
    "### Load modules"
   ]
  },
  {
   "cell_type": "code",
   "execution_count": null,
   "metadata": {},
   "outputs": [],
   "source": [
    "import osmnx as ox\n",
    "from shapely.geometry import LineString\n",
    "import geopandas as gpd\n",
    "import numpy as np\n",
    "import keplergl\n",
    "import random\n",
    "import pandas as pd"
   ]
  },
  {
   "attachments": {},
   "cell_type": "markdown",
   "metadata": {},
   "source": [
    "### Query a place and get the graph network"
   ]
  },
  {
   "cell_type": "code",
   "execution_count": null,
   "metadata": {},
   "outputs": [],
   "source": [
    "query = 'City of London'\n",
    "\n",
    "G = ox.graph.graph_from_place(query,\n",
    "                             network_type='walk',\n",
    "                             simplify=True\n",
    "                             )\n",
    "Gp = ox.project_graph(G, to_crs='4326')"
   ]
  },
  {
   "attachments": {},
   "cell_type": "markdown",
   "metadata": {},
   "source": [
    "### Function to make a randomised walking route with a fixed start time"
   ]
  },
  {
   "cell_type": "code",
   "execution_count": null,
   "metadata": {},
   "outputs": [],
   "source": [
    "def make_route(Gp, walk_speed, start_time):\n",
    "\n",
    "    origin_node = list(Gp.nodes)[random.randint(0, len(list(Gp.nodes)))]\n",
    "    destination_node = list(Gp.nodes)[random.randint(0, len(list(Gp.nodes)))]\n",
    "\n",
    "    route = ox.distance.shortest_path(Gp, origin_node, destination_node, weight='length', cpus=1)\n",
    "\n",
    "    nodes = ox.graph_to_gdfs(G, nodes=True, edges=False)\n",
    "    route_nodes = nodes.loc[route]\n",
    "\n",
    "    gdf = gpd.GeoDataFrame(route_nodes, geometry='geometry', crs=4326)\n",
    "    gdf = gdf.to_crs(epsg=3857)\n",
    "\n",
    "    route_line = LineString(gdf['geometry'].tolist())\n",
    "    distances = np.arange(0, route_line.length, walk_speed)\n",
    "\n",
    "    points = [route_line.interpolate(distance) for distance in distances]\n",
    "\n",
    "    gdf = gpd.GeoDataFrame(geometry=points, crs=3857)\n",
    "\n",
    "    gdf['time'] = pd.date_range(start_time, freq='30s', periods=len(gdf))\n",
    "\n",
    "    return gdf"
   ]
  },
  {
   "attachments": {},
   "cell_type": "markdown",
   "metadata": {},
   "source": [
    "### Function to make a fixed walking route with a fixed start time"
   ]
  },
  {
   "cell_type": "code",
   "execution_count": null,
   "metadata": {},
   "outputs": [],
   "source": [
    "def make_route(Gp, origin_lat, origin_lon, dest_lat, dest_lon, walk_speed, start_time):\n",
    "\n",
    "    origin_node = ox.nearest_nodes(Gp, origin_lat, origin_lon)\n",
    "    destination_node = ox.nearest_nodes(Gp, dest_lat, dest_lon)\n",
    "\n",
    "    route = ox.distance.shortest_path(Gp, origin_node, destination_node, weight='length', cpus=1)\n",
    "\n",
    "    nodes = ox.graph_to_gdfs(G, nodes=True, edges=False)\n",
    "    route_nodes = nodes.loc[route]\n",
    "\n",
    "    gdf = gpd.GeoDataFrame(route_nodes, geometry='geometry', crs=4326)\n",
    "    gdf = gdf.to_crs(epsg=3857)\n",
    "\n",
    "    route_line = LineString(gdf['geometry'].tolist())\n",
    "    distances = np.arange(0, route_line.length, walk_speed)\n",
    "\n",
    "    points = [route_line.interpolate(distance) for distance in distances]\n",
    "\n",
    "    gdf = gpd.GeoDataFrame(geometry=points, crs=3857)\n",
    "\n",
    "    gdf['time'] = pd.date_range(start_time, freq='1s', periods=len(gdf))\n",
    "\n",
    "    return gdf"
   ]
  },
  {
   "attachments": {},
   "cell_type": "markdown",
   "metadata": {},
   "source": [
    "### Function to make multiple routes"
   ]
  },
  {
   "cell_type": "code",
   "execution_count": null,
   "metadata": {},
   "outputs": [],
   "source": [
    "def more_routes(Gp, total_routes, min_time, max_time, walk_speed):\n",
    "    df = pd.DataFrame()\n",
    "    for i in range(total_routes):\n",
    "        min_time = pd.to_datetime(min_time)\n",
    "        max_time = pd.to_datetime(max_time)\n",
    "        random_date = min_time + (max_time - min_time) * random.random()\n",
    "\n",
    "        route = make_route(Gp, walk_speed, random_date)\n",
    "        route['ID'] = i + 1\n",
    "        df = pd.concat([df, route], axis = 0)\n",
    "\n",
    "    return df"
   ]
  },
  {
   "attachments": {},
   "cell_type": "markdown",
   "metadata": {},
   "source": [
    "### Generating route(s)"
   ]
  },
  {
   "cell_type": "code",
   "execution_count": null,
   "metadata": {},
   "outputs": [],
   "source": [
    "# To make a single randomised route\n",
    "df = make_route(Gp, 1.4, '2015-02-26 21:42:53')\n",
    "\n",
    "# To make multiple randomised routes\n",
    "df = more_routes(Gp, 3, '2015-02-26 21:00:00', '2015-02-26 21:30:00', 2)"
   ]
  },
  {
   "attachments": {},
   "cell_type": "markdown",
   "metadata": {},
   "source": [
    "### Visualising results"
   ]
  },
  {
   "cell_type": "code",
   "execution_count": null,
   "metadata": {},
   "outputs": [],
   "source": [
    "map_1 = keplergl.KeplerGl(height=600)\n",
    "map_1.add_data(data=df, name='Points')\n",
    "\n",
    "map_1"
   ]
  },
  {
   "cell_type": "code",
   "execution_count": null,
   "metadata": {},
   "outputs": [],
   "source": [
    "route_1 = make_route(Gp, -0.437495, 52.044001, -0.480065, 52.017105, 1.4, '2015-02-26 21:42:53')\n",
    "route_2 = make_route(Gp, -0.476533, 52.031457, -0.468984, 52.034308, 1.4, '2015-02-26 21:33:53')"
   ]
  }
 ],
 "metadata": {
  "kernelspec": {
   "display_name": "venv",
   "language": "python",
   "name": "python3"
  },
  "language_info": {
   "codemirror_mode": {
    "name": "ipython",
    "version": 3
   },
   "file_extension": ".py",
   "mimetype": "text/x-python",
   "name": "python",
   "nbconvert_exporter": "python",
   "pygments_lexer": "ipython3",
   "version": "3.10.9"
  },
  "orig_nbformat": 4
 },
 "nbformat": 4,
 "nbformat_minor": 2
}
