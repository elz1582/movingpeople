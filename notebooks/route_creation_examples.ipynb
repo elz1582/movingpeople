{
 "cells": [
  {
   "cell_type": "code",
   "execution_count": null,
   "metadata": {},
   "outputs": [],
   "source": []
  },
  {
   "cell_type": "code",
   "execution_count": null,
   "metadata": {},
   "outputs": [],
   "source": [
    "from movingpeople import visualise_route, generate_routes\n",
    "\n",
    "import osmnx as ox\n",
    "\n",
    "# Search query for a geographic area\n",
    "query = \"City of Westminster\"\n",
    "# Get the walking network for the query location\n",
    "G = ox.graph.graph_from_place(query, network_type=\"walk\", simplify=True)\n",
    "# Project the graph to WGS84\n",
    "Gp = ox.project_graph(G, to_crs=\"4326\")"
   ]
  },
  {
   "cell_type": "code",
   "execution_count": null,
   "metadata": {},
   "outputs": [],
   "source": [
    "# To make a single route with a randomised origin and destination and fixed start time\n",
    "generate_routes(\n",
    "                Gp,\n",
    "                time_from=\"2015-02-26 21:42:53\",\n",
    "                time_until=None,\n",
    "                time_strategy=\"fixed\",\n",
    "                route_strategy=\"many-many\",\n",
    "                origin_destination_coords=None,\n",
    "                total_routes=1,\n",
    "                walk_speed=1.4,\n",
    "                frequency=\"1s\",\n",
    "                )"
   ]
  },
  {
   "cell_type": "code",
   "execution_count": null,
   "metadata": {},
   "outputs": [],
   "source": [
    "# To make a single route with a randomised origin and destination and randomised start time between a range.\n",
    "generate_routes(\n",
    "                Gp,\n",
    "                time_from=\"2015-02-26 21:42:53\",\n",
    "                time_until=\"2015-02-26 22:42:53\",\n",
    "                time_strategy=\"fixed\",\n",
    "                route_strategy=\"many-many\",\n",
    "                origin_destination_coords=None,\n",
    "                total_routes=1,\n",
    "                walk_speed=1.4,\n",
    "                frequency=\"1s\",\n",
    "                )"
   ]
  },
  {
   "cell_type": "code",
   "execution_count": null,
   "metadata": {},
   "outputs": [],
   "source": [
    "# To make a single route with a fixed origin and randomised destination and randomised start time between a range.\n",
    "generate_routes(\n",
    "                Gp,\n",
    "                time_from=\"2015-02-26 21:42:53\",\n",
    "                time_until=\"2015-02-26 22:42:53\",\n",
    "                time_strategy=\"fixed\",\n",
    "                route_strategy=\"one-many\",\n",
    "                origin_destination_coords=[51.499127, -0.153522],\n",
    "                total_routes=1,\n",
    "                walk_speed=1.4,\n",
    "                frequency=\"1s\",\n",
    "                )"
   ]
  },
  {
   "cell_type": "code",
   "execution_count": null,
   "metadata": {},
   "outputs": [],
   "source": [
    "# To make a single route with a randomised origin and fixed destination and randomised start time between a range.\n",
    "generate_routes(\n",
    "                Gp,\n",
    "                time_from=\"2015-02-26 21:42:53\",\n",
    "                time_until=\"2015-02-26 22:42:53\",\n",
    "                time_strategy=\"fixed\",\n",
    "                route_strategy=\"many-one\",\n",
    "                origin_destination_coords=[51.499127, -0.153522],\n",
    "                total_routes=1,\n",
    "                walk_speed=1.4,\n",
    "                frequency=\"1s\",\n",
    "                )"
   ]
  },
  {
   "cell_type": "code",
   "execution_count": null,
   "metadata": {},
   "outputs": [],
   "source": [
    "# To make a single route with a fixed origin and destination and randomised start time between a range.\n",
    "generate_routes(\n",
    "                Gp,\n",
    "                time_from=\"2015-02-26 21:42:53\",\n",
    "                time_until=\"2015-02-26 22:42:53\",\n",
    "                time_strategy=\"fixed\",\n",
    "                route_strategy=\"one-one\",\n",
    "                origin_destination_coords=[51.499127, -0.153522, 51.498523, -0.155438],\n",
    "                total_routes=1,\n",
    "                walk_speed=1.4,\n",
    "                frequency=\"1s\",\n",
    "                )"
   ]
  },
  {
   "cell_type": "code",
   "execution_count": null,
   "metadata": {},
   "outputs": [],
   "source": [
    "# To make ten routes with a fixed origin and randomised destination and randomised start time between a range, with a walking speed of 2m/s.\n",
    "generate_routes(\n",
    "                Gp,\n",
    "                time_from=\"2015-02-26 21:42:53\",\n",
    "                time_until=\"2015-02-26 22:42:53\",\n",
    "                time_strategy=\"fixed\",\n",
    "                route_strategy=\"one-many\",\n",
    "                origin_destination_coords=[51.499127, -0.153522],\n",
    "                total_routes=10,\n",
    "                walk_speed=2,\n",
    "                frequency=\"1s\",\n",
    "                )"
   ]
  }
 ],
 "metadata": {
  "kernelspec": {
   "display_name": "venv",
   "language": "python",
   "name": "python3"
  },
  "language_info": {
   "name": "python",
   "version": "3.10.9"
  },
  "orig_nbformat": 4
 },
 "nbformat": 4,
 "nbformat_minor": 2
}
